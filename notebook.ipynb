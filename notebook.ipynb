{
 "cells": [
  {
   "cell_type": "markdown",
   "metadata": {},
   "source": [
    "EDA -> Feature Engineering -> Modelling -> Model Validation"
   ]
  },
  {
   "cell_type": "markdown",
   "metadata": {},
   "source": [
    "# EDA"
   ]
  },
  {
   "cell_type": "code",
   "execution_count": 286,
   "metadata": {},
   "outputs": [],
   "source": [
    "import pandas as pd"
   ]
  },
  {
   "cell_type": "code",
   "execution_count": 287,
   "metadata": {},
   "outputs": [],
   "source": [
    "# test_features = pd.read_csv('test_set_features.csv')\n",
    "raw_train_features = pd.read_csv('training_set_features.csv')\n",
    "train_labels = pd.read_csv('training_set_labels.csv')"
   ]
  },
  {
   "cell_type": "code",
   "execution_count": 288,
   "metadata": {},
   "outputs": [],
   "source": [
    "drop_columns = [\n",
    "    'health_insurance'\n",
    "    , 'employment_occupation'\n",
    "    , 'employment_industry'\n",
    "]\n",
    "\n",
    "cleaned_train_features = raw_train_features.drop(columns=drop_columns)"
   ]
  },
  {
   "cell_type": "code",
   "execution_count": 289,
   "metadata": {},
   "outputs": [],
   "source": [
    "survey_data = cleaned_train_features.merge(right=train_labels, how='inner', on='respondent_id')"
   ]
  },
  {
   "cell_type": "markdown",
   "metadata": {},
   "source": [
    "# Feature Engineering"
   ]
  },
  {
   "cell_type": "code",
   "execution_count": 290,
   "metadata": {},
   "outputs": [],
   "source": [
    "from sklearn.model_selection import train_test_split\n",
    "\n",
    "X = survey_data.drop(columns=['respondent_id', 'h1n1_vaccine', 'seasonal_vaccine'])\n",
    "y = survey_data['seasonal_vaccine']\n",
    "\n",
    "X_train, X_test, y_train, y_test = train_test_split(X, y, random_state=1)"
   ]
  },
  {
   "cell_type": "code",
   "execution_count": 291,
   "metadata": {},
   "outputs": [],
   "source": [
    "from sklearn.impute import SimpleImputer\n",
    "from sklearn.preprocessing import OneHotEncoder\n",
    "import numpy as np\n",
    "\n",
    "\n",
    "imp = SimpleImputer(strategy='most_frequent')\n",
    "ohe = OneHotEncoder(sparse=False)\n",
    "\n",
    "\n",
    "# ---- X_train ----\n",
    "# X_train SimpleImputer\n",
    "X_train_imp = pd.DataFrame(imp.fit_transform(X_train),\n",
    "                           index=X_train.index,\n",
    "                           columns=X.columns)\n",
    "\n",
    "# X_train OneHotEncoder\n",
    "X_train_ohe = pd.DataFrame(ohe.fit_transform(X_train_imp),\n",
    "                           index=X_train_imp.index,\n",
    "                           columns=np.hstack(ohe.categories_))\n",
    "X_train_ohe.columns = ohe.get_feature_names(X_train_imp.columns) # Set column names of the X_train ohe dataframe\n",
    "\n",
    "\n",
    "\n",
    "# ---- X_test ----\n",
    "# X_test SimpleImputer\n",
    "X_test_imp = pd.DataFrame(imp.transform(X_test),\n",
    "                          index=X_test.index,\n",
    "                          columns=X_test.columns)\n",
    "\n",
    "# X_test OneHotEncoder\n",
    "X_test_ohe = pd.DataFrame(ohe.transform(X_test_imp),\n",
    "                          index=X_test_imp.index,\n",
    "                          columns=np.hstack(ohe.categories_))\n",
    "X_test_ohe.columns = ohe.get_feature_names(X_test_imp.columns) # Set column names of the X_test ohe dataframe\n",
    "\n"
   ]
  },
  {
   "cell_type": "markdown",
   "metadata": {},
   "source": [
    "# Baseline Modelling: Logistic Regression"
   ]
  },
  {
   "cell_type": "code",
   "execution_count": 292,
   "metadata": {},
   "outputs": [
    {
     "data": {
      "text/plain": [
       "LogisticRegression(random_state=1)"
      ]
     },
     "execution_count": 292,
     "metadata": {},
     "output_type": "execute_result"
    }
   ],
   "source": [
    "from sklearn.linear_model import LogisticRegression\n",
    "\n",
    "logreg = LogisticRegression(random_state=1)\n",
    "model_log = logreg.fit(X_train_ohe, y_train)\n",
    "model_log"
   ]
  },
  {
   "cell_type": "markdown",
   "metadata": {},
   "source": [
    "# Baseline Model Validation: Residuals and Confusion Matrix"
   ]
  },
  {
   "cell_type": "code",
   "execution_count": 293,
   "metadata": {},
   "outputs": [
    {
     "name": "stdout",
     "output_type": "stream",
     "text": [
      "0    15592\n",
      "1     4438\n",
      "Name: Residuals (Counts), dtype: int64\n",
      "\n",
      "0    0.778432\n",
      "1    0.221568\n",
      "Name: Residuals (Proportion), dtype: float64\n"
     ]
    }
   ],
   "source": [
    "y_hat_train = logreg.predict(X_train_ohe)\n",
    "\n",
    "train_residuals = np.abs(y_train - y_hat_train)\n",
    "print(pd.Series(train_residuals, name=\"Residuals (Counts)\").value_counts())\n",
    "print()\n",
    "print(pd.Series(train_residuals, name=\"Residuals (Proportion)\").value_counts(normalize=True))"
   ]
  },
  {
   "cell_type": "code",
   "execution_count": 294,
   "metadata": {},
   "outputs": [
    {
     "name": "stdout",
     "output_type": "stream",
     "text": [
      "0    5285\n",
      "1    1392\n",
      "Name: Residuals (Counts), dtype: int64\n",
      "\n",
      "0    0.791523\n",
      "1    0.208477\n",
      "Name: Residuals (Proportion), dtype: float64\n"
     ]
    }
   ],
   "source": [
    "y_hat_test = logreg.predict(X_test_ohe)\n",
    "\n",
    "test_residuals = np.abs(y_test - y_hat_test)\n",
    "print(pd.Series(test_residuals, name=\"Residuals (Counts)\").value_counts())\n",
    "print()\n",
    "print(pd.Series(test_residuals, name=\"Residuals (Proportion)\").value_counts(normalize=True))"
   ]
  },
  {
   "cell_type": "code",
   "execution_count": 295,
   "metadata": {},
   "outputs": [
    {
     "name": "stdout",
     "output_type": "stream",
     "text": [
      "              precision    recall  f1-score   support\n",
      "\n",
      "           0       0.80      0.82      0.81      3639\n",
      "           1       0.78      0.75      0.77      3038\n",
      "\n",
      "    accuracy                           0.79      6677\n",
      "   macro avg       0.79      0.79      0.79      6677\n",
      "weighted avg       0.79      0.79      0.79      6677\n",
      "\n"
     ]
    },
    {
     "data": {
      "image/png": "[encoded data removed]",
      "text/plain": [
       "<Figure size 432x288 with 2 Axes>"
      ]
     },
     "metadata": {
      "needs_background": "light"
     },
     "output_type": "display_data"
    }
   ],
   "source": [
    "from sklearn.metrics import confusion_matrix, plot_confusion_matrix, classification_report\n",
    "\n",
    "cm = confusion_matrix(y_test, y_hat_test)\n",
    "cm\n",
    "\n",
    "plot_confusion_matrix(logreg, X_test_ohe, y_test)\n",
    "print(classification_report(y_test, y_hat_test))"
   ]
  },
  {
   "cell_type": "markdown",
   "metadata": {},
   "source": [
    "# Baseline Model Validation: Cross-Validation"
   ]
  },
  {
   "cell_type": "code",
   "execution_count": 301,
   "metadata": {},
   "outputs": [
    {
     "data": {
      "text/plain": [
       "array([0.77442905, 0.78098091, 0.77644636, 0.78412282, 0.77625913])"
      ]
     },
     "execution_count": 301,
     "metadata": {},
     "output_type": "execute_result"
    }
   ],
   "source": [
    "from sklearn.model_selection import cross_val_score\n",
    "\n",
    "X_imp = pd.DataFrame(imp.fit_transform(X),\n",
    "                     index=X.index,\n",
    "                     columns=X.columns)\n",
    "X_imp_ohe = pd.DataFrame(ohe.fit_transform(X_imp),\n",
    "                         index=X.index,\n",
    "                         columns=np.hstack(ohe.categories_))\n",
    "X_imp_ohe.columns = ohe.get_feature_names(X_imp.columns) # Set column names of the X_train ohe dataframe\n",
    "\n",
    "cross_val_score(logreg, X_imp_ohe, y, cv=5)"
   ]
  },
  {
   "cell_type": "markdown",
   "metadata": {},
   "source": [
    "# Baseline Model Validation: ROC and AUC curve"
   ]
  },
  {
   "cell_type": "code",
   "execution_count": 305,
   "metadata": {},
   "outputs": [
    {
     "name": "stdout",
     "output_type": "stream",
     "text": [
      "AUC: 0.8613590318184556\n",
      "AUC: 0.8613590318184556\n"
     ]
    },
    {
     "data": {
      "image/png": "[encoded data removed]",
      "text/plain": [
       "<Figure size 720x576 with 1 Axes>"
      ]
     },
     "metadata": {},
     "output_type": "display_data"
    }
   ],
   "source": [
    "from sklearn.metrics import roc_curve, auc\n",
    "import matplotlib.pyplot as plt\n",
    "import seaborn as sns\n",
    "%matplotlib inline\n",
    "\n",
    "y_score = logreg.fit(X_train_ohe, y_train).decision_function(X_test_ohe)\n",
    "fpr, tpr, thresholds = roc_curve(y_test, y_score)\n",
    "\n",
    "print('AUC: {}'.format(auc(fpr, tpr)))\n",
    "\n",
    "# Seaborn's beautiful styling\n",
    "sns.set_style('darkgrid', {'axes.facecolor': '0.9'})\n",
    "\n",
    "print('AUC: {}'.format(auc(fpr, tpr)))\n",
    "plt.figure(figsize=(10, 8))\n",
    "lw = 2\n",
    "plt.plot(fpr, tpr, color='darkorange',\n",
    "         lw=lw, label='ROC curve')\n",
    "plt.plot([0, 1], [0, 1], color='navy', lw=lw, linestyle='--')\n",
    "plt.xlim([0.0, 1.0])\n",
    "plt.ylim([0.0, 1.05])\n",
    "plt.yticks([i/20.0 for i in range(21)])\n",
    "plt.xticks([i/20.0 for i in range(21)])\n",
    "plt.xlabel('False Positive Rate')\n",
    "plt.ylabel('True Positive Rate')\n",
    "plt.title('Receiver operating characteristic (ROC) Curve')\n",
    "plt.legend(loc='lower right')\n",
    "plt.show()"
   ]
  }
 ],
 "metadata": {
  "kernelspec": {
   "display_name": "Python (learn-env)",
   "language": "python",
   "name": "leanr-env"
  },
  "language_info": {
   "codemirror_mode": {
    "name": "ipython",
    "version": 3
   },
   "file_extension": ".py",
   "mimetype": "text/x-python",
   "name": "python",
   "nbconvert_exporter": "python",
   "pygments_lexer": "ipython3",
   "version": "3.8.5"
  },
  "orig_nbformat": 4
 },
 "nbformat": 4,
 "nbformat_minor": 2
}
